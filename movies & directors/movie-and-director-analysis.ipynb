{
 "cells": [
  {
   "cell_type": "code",
   "execution_count": 1,
   "id": "12a15136",
   "metadata": {
    "_cell_guid": "b1076dfc-b9ad-4769-8c92-a6c4dae69d19",
    "_uuid": "8f2839f25d086af736a60e9eeb907d3b93b6e0e5",
    "execution": {
     "iopub.execute_input": "2024-10-11T20:56:57.492435Z",
     "iopub.status.busy": "2024-10-11T20:56:57.491642Z",
     "iopub.status.idle": "2024-10-11T20:56:58.410670Z",
     "shell.execute_reply": "2024-10-11T20:56:58.409370Z"
    },
    "papermill": {
     "duration": 0.934124,
     "end_time": "2024-10-11T20:56:58.413016",
     "exception": false,
     "start_time": "2024-10-11T20:56:57.478892",
     "status": "completed"
    },
    "tags": []
   },
   "outputs": [
    {
     "name": "stdout",
     "output_type": "stream",
     "text": [
      "/kaggle/input/movies-and-directors-dataset-for-film-analytics/directors.csv\n",
      "/kaggle/input/movies-and-directors-dataset-for-film-analytics/movies.csv\n"
     ]
    }
   ],
   "source": [
    "# This Python 3 environment comes with many helpful analytics libraries installed\n",
    "# It is defined by the kaggle/python Docker image: https://github.com/kaggle/docker-python\n",
    "# For example, here's several helpful packages to load\n",
    "\n",
    "import numpy as np # linear algebra\n",
    "import pandas as pd # data processing, CSV file I/O (e.g. pd.read_csv)\n",
    "\n",
    "# Input data files are available in the read-only \"../input/\" directory\n",
    "# For example, running this (by clicking run or pressing Shift+Enter) will list all files under the input directory\n",
    "\n",
    "import os\n",
    "for dirname, _, filenames in os.walk('/kaggle/input'):\n",
    "    for filename in filenames:\n",
    "        print(os.path.join(dirname, filename))\n",
    "\n",
    "# You can write up to 20GB to the current directory (/kaggle/working/) that gets preserved as output when you create a version using \"Save & Run All\" \n",
    "# You can also write temporary files to /kaggle/temp/, but they won't be saved outside of the current session"
   ]
  },
  {
   "cell_type": "code",
   "execution_count": 2,
   "id": "24569ca5",
   "metadata": {
    "execution": {
     "iopub.execute_input": "2024-10-11T20:56:58.436349Z",
     "iopub.status.busy": "2024-10-11T20:56:58.435233Z",
     "iopub.status.idle": "2024-10-11T20:57:00.296567Z",
     "shell.execute_reply": "2024-10-11T20:57:00.295393Z"
    },
    "papermill": {
     "duration": 1.876167,
     "end_time": "2024-10-11T20:57:00.299177",
     "exception": false,
     "start_time": "2024-10-11T20:56:58.423010",
     "status": "completed"
    },
    "tags": []
   },
   "outputs": [],
   "source": [
    "import seaborn as sns\n",
    "import matplotlib.pyplot as plt\n",
    "from sklearn.preprocessing import LabelEncoder"
   ]
  },
  {
   "cell_type": "markdown",
   "id": "bafb4981",
   "metadata": {
    "papermill": {
     "duration": 0.009411,
     "end_time": "2024-10-11T20:57:00.318417",
     "exception": false,
     "start_time": "2024-10-11T20:57:00.309006",
     "status": "completed"
    },
    "tags": []
   },
   "source": [
    "# Movies"
   ]
  },
  {
   "cell_type": "code",
   "execution_count": 3,
   "id": "4b27916e",
   "metadata": {
    "execution": {
     "iopub.execute_input": "2024-10-11T20:57:00.341169Z",
     "iopub.status.busy": "2024-10-11T20:57:00.339700Z",
     "iopub.status.idle": "2024-10-11T20:57:00.383405Z",
     "shell.execute_reply": "2024-10-11T20:57:00.382282Z"
    },
    "papermill": {
     "duration": 0.05738,
     "end_time": "2024-10-11T20:57:00.385791",
     "exception": false,
     "start_time": "2024-10-11T20:57:00.328411",
     "status": "completed"
    },
    "tags": []
   },
   "outputs": [
    {
     "data": {
      "text/html": [
       "<div>\n",
       "<style scoped>\n",
       "    .dataframe tbody tr th:only-of-type {\n",
       "        vertical-align: middle;\n",
       "    }\n",
       "\n",
       "    .dataframe tbody tr th {\n",
       "        vertical-align: top;\n",
       "    }\n",
       "\n",
       "    .dataframe thead th {\n",
       "        text-align: right;\n",
       "    }\n",
       "</style>\n",
       "<table border=\"1\" class=\"dataframe\">\n",
       "  <thead>\n",
       "    <tr style=\"text-align: right;\">\n",
       "      <th></th>\n",
       "      <th>Unnamed: 0</th>\n",
       "      <th>id</th>\n",
       "      <th>budget</th>\n",
       "      <th>popularity</th>\n",
       "      <th>revenue</th>\n",
       "      <th>title</th>\n",
       "      <th>vote_average</th>\n",
       "      <th>vote_count</th>\n",
       "      <th>director_id</th>\n",
       "      <th>year</th>\n",
       "      <th>month</th>\n",
       "      <th>day</th>\n",
       "    </tr>\n",
       "  </thead>\n",
       "  <tbody>\n",
       "    <tr>\n",
       "      <th>0</th>\n",
       "      <td>0</td>\n",
       "      <td>43597</td>\n",
       "      <td>237000000</td>\n",
       "      <td>150</td>\n",
       "      <td>2787965087</td>\n",
       "      <td>Avatar</td>\n",
       "      <td>7.2</td>\n",
       "      <td>11800</td>\n",
       "      <td>4762</td>\n",
       "      <td>2009</td>\n",
       "      <td>Dec</td>\n",
       "      <td>Thursday</td>\n",
       "    </tr>\n",
       "    <tr>\n",
       "      <th>1</th>\n",
       "      <td>1</td>\n",
       "      <td>43598</td>\n",
       "      <td>300000000</td>\n",
       "      <td>139</td>\n",
       "      <td>961000000</td>\n",
       "      <td>Pirates of the Caribbean: At World's End</td>\n",
       "      <td>6.9</td>\n",
       "      <td>4500</td>\n",
       "      <td>4763</td>\n",
       "      <td>2007</td>\n",
       "      <td>May</td>\n",
       "      <td>Saturday</td>\n",
       "    </tr>\n",
       "    <tr>\n",
       "      <th>2</th>\n",
       "      <td>2</td>\n",
       "      <td>43599</td>\n",
       "      <td>245000000</td>\n",
       "      <td>107</td>\n",
       "      <td>880674609</td>\n",
       "      <td>Spectre</td>\n",
       "      <td>6.3</td>\n",
       "      <td>4466</td>\n",
       "      <td>4764</td>\n",
       "      <td>2015</td>\n",
       "      <td>Oct</td>\n",
       "      <td>Monday</td>\n",
       "    </tr>\n",
       "    <tr>\n",
       "      <th>3</th>\n",
       "      <td>3</td>\n",
       "      <td>43600</td>\n",
       "      <td>250000000</td>\n",
       "      <td>112</td>\n",
       "      <td>1084939099</td>\n",
       "      <td>The Dark Knight Rises</td>\n",
       "      <td>7.6</td>\n",
       "      <td>9106</td>\n",
       "      <td>4765</td>\n",
       "      <td>2012</td>\n",
       "      <td>Jul</td>\n",
       "      <td>Monday</td>\n",
       "    </tr>\n",
       "    <tr>\n",
       "      <th>4</th>\n",
       "      <td>5</td>\n",
       "      <td>43602</td>\n",
       "      <td>258000000</td>\n",
       "      <td>115</td>\n",
       "      <td>890871626</td>\n",
       "      <td>Spider-Man 3</td>\n",
       "      <td>5.9</td>\n",
       "      <td>3576</td>\n",
       "      <td>4767</td>\n",
       "      <td>2007</td>\n",
       "      <td>May</td>\n",
       "      <td>Tuesday</td>\n",
       "    </tr>\n",
       "  </tbody>\n",
       "</table>\n",
       "</div>"
      ],
      "text/plain": [
       "   Unnamed: 0     id     budget  popularity     revenue  \\\n",
       "0           0  43597  237000000         150  2787965087   \n",
       "1           1  43598  300000000         139   961000000   \n",
       "2           2  43599  245000000         107   880674609   \n",
       "3           3  43600  250000000         112  1084939099   \n",
       "4           5  43602  258000000         115   890871626   \n",
       "\n",
       "                                      title  vote_average  vote_count  \\\n",
       "0                                    Avatar           7.2       11800   \n",
       "1  Pirates of the Caribbean: At World's End           6.9        4500   \n",
       "2                                   Spectre           6.3        4466   \n",
       "3                     The Dark Knight Rises           7.6        9106   \n",
       "4                              Spider-Man 3           5.9        3576   \n",
       "\n",
       "   director_id  year month       day  \n",
       "0         4762  2009   Dec  Thursday  \n",
       "1         4763  2007   May  Saturday  \n",
       "2         4764  2015   Oct    Monday  \n",
       "3         4765  2012   Jul    Monday  \n",
       "4         4767  2007   May   Tuesday  "
      ]
     },
     "execution_count": 3,
     "metadata": {},
     "output_type": "execute_result"
    }
   ],
   "source": [
    "df=pd.read_csv(\"/kaggle/input/movies-and-directors-dataset-for-film-analytics/movies.csv\")\n",
    "df.head()"
   ]
  },
  {
   "cell_type": "code",
   "execution_count": 4,
   "id": "b62c1042",
   "metadata": {
    "execution": {
     "iopub.execute_input": "2024-10-11T20:57:00.408370Z",
     "iopub.status.busy": "2024-10-11T20:57:00.407343Z",
     "iopub.status.idle": "2024-10-11T20:57:00.436723Z",
     "shell.execute_reply": "2024-10-11T20:57:00.435104Z"
    },
    "papermill": {
     "duration": 0.043687,
     "end_time": "2024-10-11T20:57:00.439586",
     "exception": false,
     "start_time": "2024-10-11T20:57:00.395899",
     "status": "completed"
    },
    "tags": []
   },
   "outputs": [
    {
     "name": "stdout",
     "output_type": "stream",
     "text": [
      "<class 'pandas.core.frame.DataFrame'>\n",
      "RangeIndex: 1465 entries, 0 to 1464\n",
      "Data columns (total 12 columns):\n",
      " #   Column        Non-Null Count  Dtype  \n",
      "---  ------        --------------  -----  \n",
      " 0   Unnamed: 0    1465 non-null   int64  \n",
      " 1   id            1465 non-null   int64  \n",
      " 2   budget        1465 non-null   int64  \n",
      " 3   popularity    1465 non-null   int64  \n",
      " 4   revenue       1465 non-null   int64  \n",
      " 5   title         1465 non-null   object \n",
      " 6   vote_average  1465 non-null   float64\n",
      " 7   vote_count    1465 non-null   int64  \n",
      " 8   director_id   1465 non-null   int64  \n",
      " 9   year          1465 non-null   int64  \n",
      " 10  month         1465 non-null   object \n",
      " 11  day           1465 non-null   object \n",
      "dtypes: float64(1), int64(8), object(3)\n",
      "memory usage: 137.5+ KB\n"
     ]
    }
   ],
   "source": [
    "df.info()"
   ]
  },
  {
   "cell_type": "code",
   "execution_count": 5,
   "id": "b2f1f3a8",
   "metadata": {
    "execution": {
     "iopub.execute_input": "2024-10-11T20:57:00.462588Z",
     "iopub.status.busy": "2024-10-11T20:57:00.461561Z",
     "iopub.status.idle": "2024-10-11T20:57:00.471218Z",
     "shell.execute_reply": "2024-10-11T20:57:00.470181Z"
    },
    "papermill": {
     "duration": 0.023237,
     "end_time": "2024-10-11T20:57:00.473391",
     "exception": false,
     "start_time": "2024-10-11T20:57:00.450154",
     "status": "completed"
    },
    "tags": []
   },
   "outputs": [
    {
     "data": {
      "text/plain": [
       "Unnamed: 0      0.0\n",
       "id              0.0\n",
       "budget          0.0\n",
       "popularity      0.0\n",
       "revenue         0.0\n",
       "title           0.0\n",
       "vote_average    0.0\n",
       "vote_count      0.0\n",
       "director_id     0.0\n",
       "year            0.0\n",
       "month           0.0\n",
       "day             0.0\n",
       "dtype: float64"
      ]
     },
     "execution_count": 5,
     "metadata": {},
     "output_type": "execute_result"
    }
   ],
   "source": [
    "df.isnull().mean()"
   ]
  },
  {
   "cell_type": "code",
   "execution_count": 6,
   "id": "fe94a721",
   "metadata": {
    "execution": {
     "iopub.execute_input": "2024-10-11T20:57:00.495928Z",
     "iopub.status.busy": "2024-10-11T20:57:00.495481Z",
     "iopub.status.idle": "2024-10-11T20:57:00.504057Z",
     "shell.execute_reply": "2024-10-11T20:57:00.502892Z"
    },
    "papermill": {
     "duration": 0.022536,
     "end_time": "2024-10-11T20:57:00.506268",
     "exception": false,
     "start_time": "2024-10-11T20:57:00.483732",
     "status": "completed"
    },
    "tags": []
   },
   "outputs": [],
   "source": [
    "df=df.drop(columns=\"Unnamed: 0\")"
   ]
  },
  {
   "cell_type": "markdown",
   "id": "56daeda2",
   "metadata": {
    "papermill": {
     "duration": 0.010179,
     "end_time": "2024-10-11T20:57:00.526769",
     "exception": false,
     "start_time": "2024-10-11T20:57:00.516590",
     "status": "completed"
    },
    "tags": []
   },
   "source": [
    "## Descriptive analysis"
   ]
  },
  {
   "cell_type": "code",
   "execution_count": 7,
   "id": "85fe7632",
   "metadata": {
    "execution": {
     "iopub.execute_input": "2024-10-11T20:57:00.549671Z",
     "iopub.status.busy": "2024-10-11T20:57:00.549216Z",
     "iopub.status.idle": "2024-10-11T20:57:00.583594Z",
     "shell.execute_reply": "2024-10-11T20:57:00.582487Z"
    },
    "papermill": {
     "duration": 0.049442,
     "end_time": "2024-10-11T20:57:00.586447",
     "exception": false,
     "start_time": "2024-10-11T20:57:00.537005",
     "status": "completed"
    },
    "tags": []
   },
   "outputs": [
    {
     "data": {
      "text/html": [
       "<div>\n",
       "<style scoped>\n",
       "    .dataframe tbody tr th:only-of-type {\n",
       "        vertical-align: middle;\n",
       "    }\n",
       "\n",
       "    .dataframe tbody tr th {\n",
       "        vertical-align: top;\n",
       "    }\n",
       "\n",
       "    .dataframe thead th {\n",
       "        text-align: right;\n",
       "    }\n",
       "</style>\n",
       "<table border=\"1\" class=\"dataframe\">\n",
       "  <thead>\n",
       "    <tr style=\"text-align: right;\">\n",
       "      <th></th>\n",
       "      <th>id</th>\n",
       "      <th>budget</th>\n",
       "      <th>popularity</th>\n",
       "      <th>revenue</th>\n",
       "      <th>vote_average</th>\n",
       "      <th>vote_count</th>\n",
       "      <th>director_id</th>\n",
       "      <th>year</th>\n",
       "    </tr>\n",
       "  </thead>\n",
       "  <tbody>\n",
       "    <tr>\n",
       "      <th>count</th>\n",
       "      <td>1465.000000</td>\n",
       "      <td>1.465000e+03</td>\n",
       "      <td>1465.000000</td>\n",
       "      <td>1.465000e+03</td>\n",
       "      <td>1465.000000</td>\n",
       "      <td>1465.000000</td>\n",
       "      <td>1465.000000</td>\n",
       "      <td>1465.000000</td>\n",
       "    </tr>\n",
       "    <tr>\n",
       "      <th>mean</th>\n",
       "      <td>45225.191126</td>\n",
       "      <td>4.802295e+07</td>\n",
       "      <td>30.855973</td>\n",
       "      <td>1.432539e+08</td>\n",
       "      <td>6.368191</td>\n",
       "      <td>1146.396587</td>\n",
       "      <td>5040.192491</td>\n",
       "      <td>2002.615017</td>\n",
       "    </tr>\n",
       "    <tr>\n",
       "      <th>std</th>\n",
       "      <td>1189.096396</td>\n",
       "      <td>4.935541e+07</td>\n",
       "      <td>34.845214</td>\n",
       "      <td>2.064918e+08</td>\n",
       "      <td>0.818033</td>\n",
       "      <td>1578.077438</td>\n",
       "      <td>258.059631</td>\n",
       "      <td>8.680141</td>\n",
       "    </tr>\n",
       "    <tr>\n",
       "      <th>min</th>\n",
       "      <td>43597.000000</td>\n",
       "      <td>0.000000e+00</td>\n",
       "      <td>0.000000</td>\n",
       "      <td>0.000000e+00</td>\n",
       "      <td>3.000000</td>\n",
       "      <td>1.000000</td>\n",
       "      <td>4762.000000</td>\n",
       "      <td>1976.000000</td>\n",
       "    </tr>\n",
       "    <tr>\n",
       "      <th>25%</th>\n",
       "      <td>44236.000000</td>\n",
       "      <td>1.400000e+07</td>\n",
       "      <td>11.000000</td>\n",
       "      <td>1.738013e+07</td>\n",
       "      <td>5.900000</td>\n",
       "      <td>216.000000</td>\n",
       "      <td>4845.000000</td>\n",
       "      <td>1998.000000</td>\n",
       "    </tr>\n",
       "    <tr>\n",
       "      <th>50%</th>\n",
       "      <td>45022.000000</td>\n",
       "      <td>3.300000e+07</td>\n",
       "      <td>23.000000</td>\n",
       "      <td>7.578164e+07</td>\n",
       "      <td>6.400000</td>\n",
       "      <td>571.000000</td>\n",
       "      <td>4964.000000</td>\n",
       "      <td>2004.000000</td>\n",
       "    </tr>\n",
       "    <tr>\n",
       "      <th>75%</th>\n",
       "      <td>45990.000000</td>\n",
       "      <td>6.600000e+07</td>\n",
       "      <td>41.000000</td>\n",
       "      <td>1.792469e+08</td>\n",
       "      <td>6.900000</td>\n",
       "      <td>1387.000000</td>\n",
       "      <td>5179.000000</td>\n",
       "      <td>2009.000000</td>\n",
       "    </tr>\n",
       "    <tr>\n",
       "      <th>max</th>\n",
       "      <td>48395.000000</td>\n",
       "      <td>3.800000e+08</td>\n",
       "      <td>724.000000</td>\n",
       "      <td>2.787965e+09</td>\n",
       "      <td>8.300000</td>\n",
       "      <td>13752.000000</td>\n",
       "      <td>6204.000000</td>\n",
       "      <td>2016.000000</td>\n",
       "    </tr>\n",
       "  </tbody>\n",
       "</table>\n",
       "</div>"
      ],
      "text/plain": [
       "                 id        budget   popularity       revenue  vote_average  \\\n",
       "count   1465.000000  1.465000e+03  1465.000000  1.465000e+03   1465.000000   \n",
       "mean   45225.191126  4.802295e+07    30.855973  1.432539e+08      6.368191   \n",
       "std     1189.096396  4.935541e+07    34.845214  2.064918e+08      0.818033   \n",
       "min    43597.000000  0.000000e+00     0.000000  0.000000e+00      3.000000   \n",
       "25%    44236.000000  1.400000e+07    11.000000  1.738013e+07      5.900000   \n",
       "50%    45022.000000  3.300000e+07    23.000000  7.578164e+07      6.400000   \n",
       "75%    45990.000000  6.600000e+07    41.000000  1.792469e+08      6.900000   \n",
       "max    48395.000000  3.800000e+08   724.000000  2.787965e+09      8.300000   \n",
       "\n",
       "         vote_count  director_id         year  \n",
       "count   1465.000000  1465.000000  1465.000000  \n",
       "mean    1146.396587  5040.192491  2002.615017  \n",
       "std     1578.077438   258.059631     8.680141  \n",
       "min        1.000000  4762.000000  1976.000000  \n",
       "25%      216.000000  4845.000000  1998.000000  \n",
       "50%      571.000000  4964.000000  2004.000000  \n",
       "75%     1387.000000  5179.000000  2009.000000  \n",
       "max    13752.000000  6204.000000  2016.000000  "
      ]
     },
     "execution_count": 7,
     "metadata": {},
     "output_type": "execute_result"
    }
   ],
   "source": [
    "df.describe()"
   ]
  },
  {
   "cell_type": "markdown",
   "id": "ba8f8565",
   "metadata": {
    "papermill": {
     "duration": 0.010384,
     "end_time": "2024-10-11T20:57:00.607459",
     "exception": false,
     "start_time": "2024-10-11T20:57:00.597075",
     "status": "completed"
    },
    "tags": []
   },
   "source": [
    "* **Year Range:** The movie dataset spans from 1976 to 2016, providing insights into a 40-year period of movie releases.\n",
    "\n",
    "* **Vote Count:** The minimum number of votes received by a movie is 1, while the maximum is 13,752, indicating a wide disparity in audience engagement.\n",
    "\n",
    "* **Vote Average:** Movies in the dataset have an average vote rating of 6.4, with a minimum vote average of 3.0 and a maximum of 8.3, showcasing the diversity in movie ratings.\n",
    "\n",
    "* **Revenue:** The maximum revenue generated by a single movie is 2.79 billion dollars, while the lowest recorded revenue is zero, indicating that some movies did not generate measurable revenue.\n",
    "\n",
    "* **Popularity**: The popularity score of movies ranges from 0 to 724, showing that some movies have significantly higher audience interest and engagement compared to others. \n",
    "\n",
    "* **Budget**: Movie budgets vary significantly, with the lowest budget being zero and the highest recorded budget being 380 million dollars. "
   ]
  },
  {
   "cell_type": "code",
   "execution_count": 8,
   "id": "5395a52e",
   "metadata": {
    "execution": {
     "iopub.execute_input": "2024-10-11T20:57:00.630221Z",
     "iopub.status.busy": "2024-10-11T20:57:00.629820Z",
     "iopub.status.idle": "2024-10-11T20:57:00.634633Z",
     "shell.execute_reply": "2024-10-11T20:57:00.633466Z"
    },
    "papermill": {
     "duration": 0.018884,
     "end_time": "2024-10-11T20:57:00.636905",
     "exception": false,
     "start_time": "2024-10-11T20:57:00.618021",
     "status": "completed"
    },
    "tags": []
   },
   "outputs": [],
   "source": [
    "Le=LabelEncoder()"
   ]
  },
  {
   "cell_type": "code",
   "execution_count": 9,
   "id": "89b666b6",
   "metadata": {
    "execution": {
     "iopub.execute_input": "2024-10-11T20:57:00.660761Z",
     "iopub.status.busy": "2024-10-11T20:57:00.660340Z",
     "iopub.status.idle": "2024-10-11T20:57:00.669149Z",
     "shell.execute_reply": "2024-10-11T20:57:00.667911Z"
    },
    "papermill": {
     "duration": 0.023838,
     "end_time": "2024-10-11T20:57:00.671463",
     "exception": false,
     "start_time": "2024-10-11T20:57:00.647625",
     "status": "completed"
    },
    "tags": []
   },
   "outputs": [],
   "source": [
    "df['day']=Le.fit_transform(df['day'])\n",
    "df['month']=Le.fit_transform(df['month'])\n",
    "df['year']=Le.fit_transform(df['year'])"
   ]
  },
  {
   "cell_type": "code",
   "execution_count": 10,
   "id": "b8380e6b",
   "metadata": {
    "execution": {
     "iopub.execute_input": "2024-10-11T20:57:00.694622Z",
     "iopub.status.busy": "2024-10-11T20:57:00.693812Z",
     "iopub.status.idle": "2024-10-11T20:57:00.700664Z",
     "shell.execute_reply": "2024-10-11T20:57:00.699593Z"
    },
    "papermill": {
     "duration": 0.020938,
     "end_time": "2024-10-11T20:57:00.702959",
     "exception": false,
     "start_time": "2024-10-11T20:57:00.682021",
     "status": "completed"
    },
    "tags": []
   },
   "outputs": [],
   "source": [
    "data=df.drop(columns=\"title\")"
   ]
  },
  {
   "cell_type": "markdown",
   "id": "957b96fd",
   "metadata": {
    "papermill": {
     "duration": 0.010582,
     "end_time": "2024-10-11T20:57:00.724122",
     "exception": false,
     "start_time": "2024-10-11T20:57:00.713540",
     "status": "completed"
    },
    "tags": []
   },
   "source": [
    "## Correlation analysis"
   ]
  },
  {
   "cell_type": "code",
   "execution_count": 11,
   "id": "4e6537e4",
   "metadata": {
    "execution": {
     "iopub.execute_input": "2024-10-11T20:57:00.747078Z",
     "iopub.status.busy": "2024-10-11T20:57:00.746644Z",
     "iopub.status.idle": "2024-10-11T20:57:01.491011Z",
     "shell.execute_reply": "2024-10-11T20:57:01.489773Z"
    },
    "papermill": {
     "duration": 0.759505,
     "end_time": "2024-10-11T20:57:01.494112",
     "exception": false,
     "start_time": "2024-10-11T20:57:00.734607",
     "status": "completed"
    },
    "tags": []
   },
   "outputs": [
    {
     "data": {
      "text/plain": [
       "<Axes: >"
      ]
     },
     "execution_count": 11,
     "metadata": {},
     "output_type": "execute_result"
    },
    {
     "data": {
      "image/png": "[encoded data removed]",
      "text/plain": [
       "<Figure size 1400x800 with 2 Axes>"
      ]
     },
     "metadata": {},
     "output_type": "display_data"
    }
   ],
   "source": [
    "corr=data.corr()\n",
    "plt.figure(figsize=(14,8))\n",
    "sns.heatmap(corr,cmap=\"YlOrBr\",linewidths=0.6,fmt=\".1f\",linecolor=\"black\",annot=True)"
   ]
  },
  {
   "cell_type": "markdown",
   "id": "a7da3160",
   "metadata": {
    "papermill": {
     "duration": 0.012161,
     "end_time": "2024-10-11T20:57:01.519196",
     "exception": false,
     "start_time": "2024-10-11T20:57:01.507035",
     "status": "completed"
    },
    "tags": []
   },
   "source": [
    "**Budget & Revenue:**\n",
    "Strong positive correlation (0.7). This indicates that movies with higher budgets tend to generate more revenue.\n",
    "\n",
    "**Popularity & Vote Count:**\n",
    "Very strong correlation (0.8). More popular movies tend to receive more votes.\n",
    "\n",
    "**Revenue & Popularity:**\n",
    "Positive correlation (0.6). Movies that are popular also tend to generate more revenue, as more people are likely to watch them.\n",
    "\n",
    "**Budget & Popularity:**\n",
    "Positive correlation (0.5). Higher-budget movies tend to be more popular, which can be due to factors like marketing spend and production quality.\n",
    "\n",
    "**Vote Count & Revenue:**\n",
    "Positive correlation (0.7). Movies that generate more revenue also receive more votes, likely because they are seen by more people.\n",
    "\n",
    "**Vote Average:**\n",
    "Weak positive correlation with most variables. The average vote score doesn’t seem strongly influenced by factors like budget or revenue, implying that high-budget or high-revenue films don't always have higher average ratings.\n",
    "Director ID & Budget:\n",
    "\n",
    "**Negative correlation (-0.5)**, it suggests that movies from certain directors may have lower budgets\n"
   ]
  },
  {
   "cell_type": "code",
   "execution_count": 12,
   "id": "9f7cbeca",
   "metadata": {
    "execution": {
     "iopub.execute_input": "2024-10-11T20:57:01.544879Z",
     "iopub.status.busy": "2024-10-11T20:57:01.544473Z",
     "iopub.status.idle": "2024-10-11T20:57:01.552433Z",
     "shell.execute_reply": "2024-10-11T20:57:01.551231Z"
    },
    "papermill": {
     "duration": 0.024157,
     "end_time": "2024-10-11T20:57:01.555277",
     "exception": false,
     "start_time": "2024-10-11T20:57:01.531120",
     "status": "completed"
    },
    "tags": []
   },
   "outputs": [
    {
     "name": "stdout",
     "output_type": "stream",
     "text": [
      "[33 31 39 36 40 30 32 37 35 38 34 29 21 28 23 19 25 27 26 22 14 24 15 18\n",
      " 20 17  6 16 13  2  8 11 10 12  3  9  5  7  4  0  1]\n"
     ]
    }
   ],
   "source": [
    "print(df['year'].unique())\n"
   ]
  },
  {
   "cell_type": "code",
   "execution_count": 13,
   "id": "76bb9748",
   "metadata": {
    "execution": {
     "iopub.execute_input": "2024-10-11T20:57:01.582227Z",
     "iopub.status.busy": "2024-10-11T20:57:01.581331Z",
     "iopub.status.idle": "2024-10-11T20:57:01.588778Z",
     "shell.execute_reply": "2024-10-11T20:57:01.587397Z"
    },
    "papermill": {
     "duration": 0.023681,
     "end_time": "2024-10-11T20:57:01.591236",
     "exception": false,
     "start_time": "2024-10-11T20:57:01.567555",
     "status": "completed"
    },
    "tags": []
   },
   "outputs": [
    {
     "name": "stdout",
     "output_type": "stream",
     "text": [
      "0 40\n"
     ]
    }
   ],
   "source": [
    "print(df['year'].min(), df['year'].max())\n",
    "\n"
   ]
  },
  {
   "cell_type": "markdown",
   "id": "3b8daf91",
   "metadata": {
    "papermill": {
     "duration": 0.011804,
     "end_time": "2024-10-11T20:57:01.615075",
     "exception": false,
     "start_time": "2024-10-11T20:57:01.603271",
     "status": "completed"
    },
    "tags": []
   },
   "source": [
    "## Revenue Vs Year"
   ]
  },
  {
   "cell_type": "code",
   "execution_count": 14,
   "id": "2c7c6b8f",
   "metadata": {
    "execution": {
     "iopub.execute_input": "2024-10-11T20:57:01.640866Z",
     "iopub.status.busy": "2024-10-11T20:57:01.640435Z",
     "iopub.status.idle": "2024-10-11T20:57:01.650115Z",
     "shell.execute_reply": "2024-10-11T20:57:01.648921Z"
    },
    "papermill": {
     "duration": 0.025419,
     "end_time": "2024-10-11T20:57:01.652548",
     "exception": false,
     "start_time": "2024-10-11T20:57:01.627129",
     "status": "completed"
    },
    "tags": []
   },
   "outputs": [],
   "source": [
    "yearly_rev=df.groupby(\"year\")['revenue'].mean()\n",
    "yearly_rev=yearly_rev.reset_index()"
   ]
  },
  {
   "cell_type": "code",
   "execution_count": 15,
   "id": "5478709c",
   "metadata": {
    "execution": {
     "iopub.execute_input": "2024-10-11T20:57:01.678938Z",
     "iopub.status.busy": "2024-10-11T20:57:01.678515Z",
     "iopub.status.idle": "2024-10-11T20:57:01.906207Z",
     "shell.execute_reply": "2024-10-11T20:57:01.904917Z"
    },
    "papermill": {
     "duration": 0.244015,
     "end_time": "2024-10-11T20:57:01.909012",
     "exception": false,
     "start_time": "2024-10-11T20:57:01.664997",
     "status": "completed"
    },
    "tags": []
   },
   "outputs": [
    {
     "name": "stderr",
     "output_type": "stream",
     "text": [
      "/opt/conda/lib/python3.10/site-packages/seaborn/_oldcore.py:1119: FutureWarning: use_inf_as_na option is deprecated and will be removed in a future version. Convert inf values to NaN before operating instead.\n",
      "  with pd.option_context('mode.use_inf_as_na', True):\n",
      "/opt/conda/lib/python3.10/site-packages/seaborn/_oldcore.py:1119: FutureWarning: use_inf_as_na option is deprecated and will be removed in a future version. Convert inf values to NaN before operating instead.\n",
      "  with pd.option_context('mode.use_inf_as_na', True):\n"
     ]
    },
    {
     "data": {
      "image/png": "[encoded data removed]",
      "text/plain": [
       "<Figure size 640x480 with 1 Axes>"
      ]
     },
     "metadata": {},
     "output_type": "display_data"
    }
   ],
   "source": [
    "sns.lineplot(yearly_rev,x='year',y='revenue')\n",
    "plt.show()"
   ]
  },
  {
   "cell_type": "markdown",
   "id": "35c92426",
   "metadata": {
    "papermill": {
     "duration": 0.012615,
     "end_time": "2024-10-11T20:57:01.934456",
     "exception": false,
     "start_time": "2024-10-11T20:57:01.921841",
     "status": "completed"
    },
    "tags": []
   },
   "source": [
    "* Shows revenue over time (years) indicating a clear upward trend. As the years progress, movie revenues tend to increase.\n",
    "* Several notable peaks suggest that certain years had blockbuster movies generating significant revenue. This might be due to high-budget productions or successful franchises released during these periods.\n",
    "* Although the trend is upward, there are also periods of volatility where revenues fluctuate significantly year to year."
   ]
  },
  {
   "cell_type": "markdown",
   "id": "81d0004e",
   "metadata": {
    "papermill": {
     "duration": 0.012513,
     "end_time": "2024-10-11T20:57:01.960015",
     "exception": false,
     "start_time": "2024-10-11T20:57:01.947502",
     "status": "completed"
    },
    "tags": []
   },
   "source": [
    "## Popularity Vs Year"
   ]
  },
  {
   "cell_type": "code",
   "execution_count": 16,
   "id": "f16140dd",
   "metadata": {
    "execution": {
     "iopub.execute_input": "2024-10-11T20:57:01.989919Z",
     "iopub.status.busy": "2024-10-11T20:57:01.987770Z",
     "iopub.status.idle": "2024-10-11T20:57:01.996989Z",
     "shell.execute_reply": "2024-10-11T20:57:01.995948Z"
    },
    "papermill": {
     "duration": 0.026319,
     "end_time": "2024-10-11T20:57:01.999530",
     "exception": false,
     "start_time": "2024-10-11T20:57:01.973211",
     "status": "completed"
    },
    "tags": []
   },
   "outputs": [],
   "source": [
    "yearly_pop=df.groupby('year')['popularity'].mean()\n",
    "yearly_pop=yearly_pop.reset_index()"
   ]
  },
  {
   "cell_type": "code",
   "execution_count": 17,
   "id": "c184268e",
   "metadata": {
    "execution": {
     "iopub.execute_input": "2024-10-11T20:57:02.027668Z",
     "iopub.status.busy": "2024-10-11T20:57:02.027225Z",
     "iopub.status.idle": "2024-10-11T20:57:02.235103Z",
     "shell.execute_reply": "2024-10-11T20:57:02.233980Z"
    },
    "papermill": {
     "duration": 0.224459,
     "end_time": "2024-10-11T20:57:02.237614",
     "exception": false,
     "start_time": "2024-10-11T20:57:02.013155",
     "status": "completed"
    },
    "tags": []
   },
   "outputs": [
    {
     "name": "stderr",
     "output_type": "stream",
     "text": [
      "/opt/conda/lib/python3.10/site-packages/seaborn/_oldcore.py:1119: FutureWarning: use_inf_as_na option is deprecated and will be removed in a future version. Convert inf values to NaN before operating instead.\n",
      "  with pd.option_context('mode.use_inf_as_na', True):\n",
      "/opt/conda/lib/python3.10/site-packages/seaborn/_oldcore.py:1119: FutureWarning: use_inf_as_na option is deprecated and will be removed in a future version. Convert inf values to NaN before operating instead.\n",
      "  with pd.option_context('mode.use_inf_as_na', True):\n"
     ]
    },
    {
     "data": {
      "image/png": "[encoded data removed]",
      "text/plain": [
       "<Figure size 640x480 with 1 Axes>"
      ]
     },
     "metadata": {},
     "output_type": "display_data"
    }
   ],
   "source": [
    "sns.lineplot(yearly_pop,x='year',y='popularity')\n",
    "plt.show()"
   ]
  },
  {
   "cell_type": "markdown",
   "id": "712aa2cb",
   "metadata": {
    "papermill": {
     "duration": 0.013521,
     "end_time": "2024-10-11T20:57:02.264737",
     "exception": false,
     "start_time": "2024-10-11T20:57:02.251216",
     "status": "completed"
    },
    "tags": []
   },
   "source": [
    "* In the beginning years, the graph shows quite a bit of fluctuation in popularity. This could suggest varying public interest or external factors affecting movie popularity.\n",
    "\n",
    "* Toward the end (around year 40), there is a sharp spike in popularity. This likely indicates an increase in global movie consumption or popular releases driving higher popularity."
   ]
  },
  {
   "cell_type": "markdown",
   "id": "7bbd00c6",
   "metadata": {
    "papermill": {
     "duration": 0.013382,
     "end_time": "2024-10-11T20:57:02.291967",
     "exception": false,
     "start_time": "2024-10-11T20:57:02.278585",
     "status": "completed"
    },
    "tags": []
   },
   "source": [
    "## Budget Vs Revenue"
   ]
  },
  {
   "cell_type": "code",
   "execution_count": 18,
   "id": "ec88c775",
   "metadata": {
    "execution": {
     "iopub.execute_input": "2024-10-11T20:57:02.321463Z",
     "iopub.status.busy": "2024-10-11T20:57:02.321038Z",
     "iopub.status.idle": "2024-10-11T20:57:02.575420Z",
     "shell.execute_reply": "2024-10-11T20:57:02.574361Z"
    },
    "papermill": {
     "duration": 0.271558,
     "end_time": "2024-10-11T20:57:02.577798",
     "exception": false,
     "start_time": "2024-10-11T20:57:02.306240",
     "status": "completed"
    },
    "tags": []
   },
   "outputs": [
    {
     "data": {
      "image/png": "[encoded data removed]",
      "text/plain": [
       "<Figure size 640x480 with 1 Axes>"
      ]
     },
     "metadata": {},
     "output_type": "display_data"
    }
   ],
   "source": [
    "sns.scatterplot(df,x='budget',y='revenue')\n",
    "plt.show()"
   ]
  },
  {
   "cell_type": "markdown",
   "id": "36fb0cbb",
   "metadata": {
    "papermill": {
     "duration": 0.014916,
     "end_time": "2024-10-11T20:57:02.607195",
     "exception": false,
     "start_time": "2024-10-11T20:57:02.592279",
     "status": "completed"
    },
    "tags": []
   },
   "source": [
    "* The scatter plot shows a positive correlation between budget and revenue. Generally, higher-budget movies tend to generate more revenue, but there are also several lower-budget films that perform well.\n",
    "* Some movies with relatively low budgets also show a significant revenue generation, which indicates the presence of highly profitable, low-budget films.\n",
    "* There are a few outlier points where movies with extremely high budgets lead to very high revenues, suggesting large-scale productions"
   ]
  },
  {
   "cell_type": "markdown",
   "id": "72002c79",
   "metadata": {
    "papermill": {
     "duration": 0.013919,
     "end_time": "2024-10-11T20:57:02.636189",
     "exception": false,
     "start_time": "2024-10-11T20:57:02.622270",
     "status": "completed"
    },
    "tags": []
   },
   "source": [
    "# Directors"
   ]
  },
  {
   "cell_type": "code",
   "execution_count": 19,
   "id": "11e8bc99",
   "metadata": {
    "execution": {
     "iopub.execute_input": "2024-10-11T20:57:02.666195Z",
     "iopub.status.busy": "2024-10-11T20:57:02.665762Z",
     "iopub.status.idle": "2024-10-11T20:57:02.687513Z",
     "shell.execute_reply": "2024-10-11T20:57:02.686399Z"
    },
    "papermill": {
     "duration": 0.039505,
     "end_time": "2024-10-11T20:57:02.689774",
     "exception": false,
     "start_time": "2024-10-11T20:57:02.650269",
     "status": "completed"
    },
    "tags": []
   },
   "outputs": [
    {
     "data": {
      "text/html": [
       "<div>\n",
       "<style scoped>\n",
       "    .dataframe tbody tr th:only-of-type {\n",
       "        vertical-align: middle;\n",
       "    }\n",
       "\n",
       "    .dataframe tbody tr th {\n",
       "        vertical-align: top;\n",
       "    }\n",
       "\n",
       "    .dataframe thead th {\n",
       "        text-align: right;\n",
       "    }\n",
       "</style>\n",
       "<table border=\"1\" class=\"dataframe\">\n",
       "  <thead>\n",
       "    <tr style=\"text-align: right;\">\n",
       "      <th></th>\n",
       "      <th>Unnamed: 0</th>\n",
       "      <th>director_name</th>\n",
       "      <th>id</th>\n",
       "      <th>gender</th>\n",
       "    </tr>\n",
       "  </thead>\n",
       "  <tbody>\n",
       "    <tr>\n",
       "      <th>0</th>\n",
       "      <td>0</td>\n",
       "      <td>James Cameron</td>\n",
       "      <td>4762</td>\n",
       "      <td>Male</td>\n",
       "    </tr>\n",
       "    <tr>\n",
       "      <th>1</th>\n",
       "      <td>1</td>\n",
       "      <td>Gore Verbinski</td>\n",
       "      <td>4763</td>\n",
       "      <td>Male</td>\n",
       "    </tr>\n",
       "    <tr>\n",
       "      <th>2</th>\n",
       "      <td>2</td>\n",
       "      <td>Sam Mendes</td>\n",
       "      <td>4764</td>\n",
       "      <td>Male</td>\n",
       "    </tr>\n",
       "    <tr>\n",
       "      <th>3</th>\n",
       "      <td>3</td>\n",
       "      <td>Christopher Nolan</td>\n",
       "      <td>4765</td>\n",
       "      <td>Male</td>\n",
       "    </tr>\n",
       "    <tr>\n",
       "      <th>4</th>\n",
       "      <td>4</td>\n",
       "      <td>Andrew Stanton</td>\n",
       "      <td>4766</td>\n",
       "      <td>Male</td>\n",
       "    </tr>\n",
       "    <tr>\n",
       "      <th>...</th>\n",
       "      <td>...</td>\n",
       "      <td>...</td>\n",
       "      <td>...</td>\n",
       "      <td>...</td>\n",
       "    </tr>\n",
       "    <tr>\n",
       "      <th>2344</th>\n",
       "      <td>2344</td>\n",
       "      <td>Shane Carruth</td>\n",
       "      <td>7106</td>\n",
       "      <td>Male</td>\n",
       "    </tr>\n",
       "    <tr>\n",
       "      <th>2345</th>\n",
       "      <td>2345</td>\n",
       "      <td>Neill Dela Llana</td>\n",
       "      <td>7107</td>\n",
       "      <td>NaN</td>\n",
       "    </tr>\n",
       "    <tr>\n",
       "      <th>2346</th>\n",
       "      <td>2346</td>\n",
       "      <td>Scott Smith</td>\n",
       "      <td>7108</td>\n",
       "      <td>NaN</td>\n",
       "    </tr>\n",
       "    <tr>\n",
       "      <th>2347</th>\n",
       "      <td>2347</td>\n",
       "      <td>Daniel Hsia</td>\n",
       "      <td>7109</td>\n",
       "      <td>Male</td>\n",
       "    </tr>\n",
       "    <tr>\n",
       "      <th>2348</th>\n",
       "      <td>2348</td>\n",
       "      <td>Brian Herzlinger</td>\n",
       "      <td>7110</td>\n",
       "      <td>Male</td>\n",
       "    </tr>\n",
       "  </tbody>\n",
       "</table>\n",
       "<p>2349 rows × 4 columns</p>\n",
       "</div>"
      ],
      "text/plain": [
       "      Unnamed: 0      director_name    id gender\n",
       "0              0      James Cameron  4762   Male\n",
       "1              1     Gore Verbinski  4763   Male\n",
       "2              2         Sam Mendes  4764   Male\n",
       "3              3  Christopher Nolan  4765   Male\n",
       "4              4     Andrew Stanton  4766   Male\n",
       "...          ...                ...   ...    ...\n",
       "2344        2344      Shane Carruth  7106   Male\n",
       "2345        2345   Neill Dela Llana  7107    NaN\n",
       "2346        2346        Scott Smith  7108    NaN\n",
       "2347        2347        Daniel Hsia  7109   Male\n",
       "2348        2348   Brian Herzlinger  7110   Male\n",
       "\n",
       "[2349 rows x 4 columns]"
      ]
     },
     "execution_count": 19,
     "metadata": {},
     "output_type": "execute_result"
    }
   ],
   "source": [
    "df_dir=pd.read_csv(\"/kaggle/input/movies-and-directors-dataset-for-film-analytics/directors.csv\")\n",
    "df_dir"
   ]
  },
  {
   "cell_type": "code",
   "execution_count": 20,
   "id": "424a410b",
   "metadata": {
    "execution": {
     "iopub.execute_input": "2024-10-11T20:57:02.721430Z",
     "iopub.status.busy": "2024-10-11T20:57:02.720293Z",
     "iopub.status.idle": "2024-10-11T20:57:02.732099Z",
     "shell.execute_reply": "2024-10-11T20:57:02.730987Z"
    },
    "papermill": {
     "duration": 0.029866,
     "end_time": "2024-10-11T20:57:02.734374",
     "exception": false,
     "start_time": "2024-10-11T20:57:02.704508",
     "status": "completed"
    },
    "tags": []
   },
   "outputs": [
    {
     "name": "stdout",
     "output_type": "stream",
     "text": [
      "<class 'pandas.core.frame.DataFrame'>\n",
      "RangeIndex: 2349 entries, 0 to 2348\n",
      "Data columns (total 4 columns):\n",
      " #   Column         Non-Null Count  Dtype \n",
      "---  ------         --------------  ----- \n",
      " 0   Unnamed: 0     2349 non-null   int64 \n",
      " 1   director_name  2349 non-null   object\n",
      " 2   id             2349 non-null   int64 \n",
      " 3   gender         1724 non-null   object\n",
      "dtypes: int64(2), object(2)\n",
      "memory usage: 73.5+ KB\n"
     ]
    }
   ],
   "source": [
    "df_dir.info()"
   ]
  },
  {
   "cell_type": "code",
   "execution_count": 21,
   "id": "b311e68b",
   "metadata": {
    "execution": {
     "iopub.execute_input": "2024-10-11T20:57:02.766030Z",
     "iopub.status.busy": "2024-10-11T20:57:02.765026Z",
     "iopub.status.idle": "2024-10-11T20:57:02.771018Z",
     "shell.execute_reply": "2024-10-11T20:57:02.769914Z"
    },
    "papermill": {
     "duration": 0.024378,
     "end_time": "2024-10-11T20:57:02.773335",
     "exception": false,
     "start_time": "2024-10-11T20:57:02.748957",
     "status": "completed"
    },
    "tags": []
   },
   "outputs": [],
   "source": [
    "df_dir=df_dir.drop(columns=\"Unnamed: 0\")"
   ]
  },
  {
   "cell_type": "markdown",
   "id": "4d4fab56",
   "metadata": {
    "papermill": {
     "duration": 0.014869,
     "end_time": "2024-10-11T20:57:02.802706",
     "exception": false,
     "start_time": "2024-10-11T20:57:02.787837",
     "status": "completed"
    },
    "tags": []
   },
   "source": [
    "## Filling null values"
   ]
  },
  {
   "cell_type": "code",
   "execution_count": 22,
   "id": "0bfc9482",
   "metadata": {
    "execution": {
     "iopub.execute_input": "2024-10-11T20:57:02.833658Z",
     "iopub.status.busy": "2024-10-11T20:57:02.833221Z",
     "iopub.status.idle": "2024-10-11T20:57:02.842739Z",
     "shell.execute_reply": "2024-10-11T20:57:02.841654Z"
    },
    "papermill": {
     "duration": 0.027555,
     "end_time": "2024-10-11T20:57:02.844913",
     "exception": false,
     "start_time": "2024-10-11T20:57:02.817358",
     "status": "completed"
    },
    "tags": []
   },
   "outputs": [
    {
     "data": {
      "text/plain": [
       "director_name    0.000000\n",
       "id               0.000000\n",
       "gender           0.266071\n",
       "dtype: float64"
      ]
     },
     "execution_count": 22,
     "metadata": {},
     "output_type": "execute_result"
    }
   ],
   "source": [
    "df_dir.isnull().mean()"
   ]
  },
  {
   "cell_type": "code",
   "execution_count": 23,
   "id": "d1e76fac",
   "metadata": {
    "execution": {
     "iopub.execute_input": "2024-10-11T20:57:02.876400Z",
     "iopub.status.busy": "2024-10-11T20:57:02.875954Z",
     "iopub.status.idle": "2024-10-11T20:57:02.883456Z",
     "shell.execute_reply": "2024-10-11T20:57:02.882125Z"
    },
    "papermill": {
     "duration": 0.026371,
     "end_time": "2024-10-11T20:57:02.885861",
     "exception": false,
     "start_time": "2024-10-11T20:57:02.859490",
     "status": "completed"
    },
    "tags": []
   },
   "outputs": [],
   "source": [
    "df_dir['gender']=df_dir['gender'].fillna(df_dir['gender'].mode()[0])"
   ]
  },
  {
   "cell_type": "markdown",
   "id": "81689ddb",
   "metadata": {
    "papermill": {
     "duration": 0.014285,
     "end_time": "2024-10-11T20:57:02.914609",
     "exception": false,
     "start_time": "2024-10-11T20:57:02.900324",
     "status": "completed"
    },
    "tags": []
   },
   "source": [
    "## Male Vs Female"
   ]
  },
  {
   "cell_type": "code",
   "execution_count": 24,
   "id": "7d2ee4ae",
   "metadata": {
    "execution": {
     "iopub.execute_input": "2024-10-11T20:57:02.945759Z",
     "iopub.status.busy": "2024-10-11T20:57:02.945290Z",
     "iopub.status.idle": "2024-10-11T20:57:03.064185Z",
     "shell.execute_reply": "2024-10-11T20:57:03.062796Z"
    },
    "papermill": {
     "duration": 0.13799,
     "end_time": "2024-10-11T20:57:03.067238",
     "exception": false,
     "start_time": "2024-10-11T20:57:02.929248",
     "status": "completed"
    },
    "tags": []
   },
   "outputs": [
    {
     "data": {
      "image/png": "[encoded data removed]",
      "text/plain": [
       "<Figure size 640x480 with 1 Axes>"
      ]
     },
     "metadata": {},
     "output_type": "display_data"
    }
   ],
   "source": [
    "gender_counts = df_dir['gender'].value_counts()\n",
    "gender_labels = gender_counts.index\n",
    "\n",
    "palette_color = sns.color_palette('pastel')  \n",
    "plt.pie(gender_counts, labels=gender_labels, colors=palette_color, autopct='%.0f%%')\n",
    "plt.show() "
   ]
  },
  {
   "cell_type": "markdown",
   "id": "233e8ac4",
   "metadata": {
    "papermill": {
     "duration": 0.024494,
     "end_time": "2024-10-11T20:57:03.116962",
     "exception": false,
     "start_time": "2024-10-11T20:57:03.092468",
     "status": "completed"
    },
    "tags": []
   },
   "source": [
    "### Merging data"
   ]
  },
  {
   "cell_type": "code",
   "execution_count": 25,
   "id": "0a646d22",
   "metadata": {
    "execution": {
     "iopub.execute_input": "2024-10-11T20:57:03.159527Z",
     "iopub.status.busy": "2024-10-11T20:57:03.159075Z",
     "iopub.status.idle": "2024-10-11T20:57:03.185883Z",
     "shell.execute_reply": "2024-10-11T20:57:03.184527Z"
    },
    "papermill": {
     "duration": 0.046313,
     "end_time": "2024-10-11T20:57:03.188222",
     "exception": false,
     "start_time": "2024-10-11T20:57:03.141909",
     "status": "completed"
    },
    "tags": []
   },
   "outputs": [
    {
     "data": {
      "text/html": [
       "<div>\n",
       "<style scoped>\n",
       "    .dataframe tbody tr th:only-of-type {\n",
       "        vertical-align: middle;\n",
       "    }\n",
       "\n",
       "    .dataframe tbody tr th {\n",
       "        vertical-align: top;\n",
       "    }\n",
       "\n",
       "    .dataframe thead th {\n",
       "        text-align: right;\n",
       "    }\n",
       "</style>\n",
       "<table border=\"1\" class=\"dataframe\">\n",
       "  <thead>\n",
       "    <tr style=\"text-align: right;\">\n",
       "      <th></th>\n",
       "      <th>id_x</th>\n",
       "      <th>budget</th>\n",
       "      <th>popularity</th>\n",
       "      <th>revenue</th>\n",
       "      <th>title</th>\n",
       "      <th>vote_average</th>\n",
       "      <th>vote_count</th>\n",
       "      <th>director_id</th>\n",
       "      <th>year</th>\n",
       "      <th>month</th>\n",
       "      <th>day</th>\n",
       "      <th>director_name</th>\n",
       "      <th>id_y</th>\n",
       "      <th>gender</th>\n",
       "    </tr>\n",
       "  </thead>\n",
       "  <tbody>\n",
       "    <tr>\n",
       "      <th>0</th>\n",
       "      <td>43597</td>\n",
       "      <td>237000000</td>\n",
       "      <td>150</td>\n",
       "      <td>2787965087</td>\n",
       "      <td>Avatar</td>\n",
       "      <td>7.2</td>\n",
       "      <td>11800</td>\n",
       "      <td>4762</td>\n",
       "      <td>33</td>\n",
       "      <td>2</td>\n",
       "      <td>4</td>\n",
       "      <td>James Cameron</td>\n",
       "      <td>4762</td>\n",
       "      <td>Male</td>\n",
       "    </tr>\n",
       "    <tr>\n",
       "      <th>1</th>\n",
       "      <td>43598</td>\n",
       "      <td>300000000</td>\n",
       "      <td>139</td>\n",
       "      <td>961000000</td>\n",
       "      <td>Pirates of the Caribbean: At World's End</td>\n",
       "      <td>6.9</td>\n",
       "      <td>4500</td>\n",
       "      <td>4763</td>\n",
       "      <td>31</td>\n",
       "      <td>8</td>\n",
       "      <td>2</td>\n",
       "      <td>Gore Verbinski</td>\n",
       "      <td>4763</td>\n",
       "      <td>Male</td>\n",
       "    </tr>\n",
       "    <tr>\n",
       "      <th>2</th>\n",
       "      <td>43599</td>\n",
       "      <td>245000000</td>\n",
       "      <td>107</td>\n",
       "      <td>880674609</td>\n",
       "      <td>Spectre</td>\n",
       "      <td>6.3</td>\n",
       "      <td>4466</td>\n",
       "      <td>4764</td>\n",
       "      <td>39</td>\n",
       "      <td>10</td>\n",
       "      <td>1</td>\n",
       "      <td>Sam Mendes</td>\n",
       "      <td>4764</td>\n",
       "      <td>Male</td>\n",
       "    </tr>\n",
       "    <tr>\n",
       "      <th>3</th>\n",
       "      <td>43600</td>\n",
       "      <td>250000000</td>\n",
       "      <td>112</td>\n",
       "      <td>1084939099</td>\n",
       "      <td>The Dark Knight Rises</td>\n",
       "      <td>7.6</td>\n",
       "      <td>9106</td>\n",
       "      <td>4765</td>\n",
       "      <td>36</td>\n",
       "      <td>5</td>\n",
       "      <td>1</td>\n",
       "      <td>Christopher Nolan</td>\n",
       "      <td>4765</td>\n",
       "      <td>Male</td>\n",
       "    </tr>\n",
       "    <tr>\n",
       "      <th>4</th>\n",
       "      <td>43602</td>\n",
       "      <td>258000000</td>\n",
       "      <td>115</td>\n",
       "      <td>890871626</td>\n",
       "      <td>Spider-Man 3</td>\n",
       "      <td>5.9</td>\n",
       "      <td>3576</td>\n",
       "      <td>4767</td>\n",
       "      <td>31</td>\n",
       "      <td>8</td>\n",
       "      <td>5</td>\n",
       "      <td>Sam Raimi</td>\n",
       "      <td>4767</td>\n",
       "      <td>Male</td>\n",
       "    </tr>\n",
       "    <tr>\n",
       "      <th>...</th>\n",
       "      <td>...</td>\n",
       "      <td>...</td>\n",
       "      <td>...</td>\n",
       "      <td>...</td>\n",
       "      <td>...</td>\n",
       "      <td>...</td>\n",
       "      <td>...</td>\n",
       "      <td>...</td>\n",
       "      <td>...</td>\n",
       "      <td>...</td>\n",
       "      <td>...</td>\n",
       "      <td>...</td>\n",
       "      <td>...</td>\n",
       "      <td>...</td>\n",
       "    </tr>\n",
       "    <tr>\n",
       "      <th>1460</th>\n",
       "      <td>48363</td>\n",
       "      <td>0</td>\n",
       "      <td>3</td>\n",
       "      <td>321952</td>\n",
       "      <td>The Last Waltz</td>\n",
       "      <td>7.9</td>\n",
       "      <td>64</td>\n",
       "      <td>4809</td>\n",
       "      <td>2</td>\n",
       "      <td>8</td>\n",
       "      <td>1</td>\n",
       "      <td>Martin Scorsese</td>\n",
       "      <td>4809</td>\n",
       "      <td>Male</td>\n",
       "    </tr>\n",
       "    <tr>\n",
       "      <th>1461</th>\n",
       "      <td>48370</td>\n",
       "      <td>27000</td>\n",
       "      <td>19</td>\n",
       "      <td>3151130</td>\n",
       "      <td>Clerks</td>\n",
       "      <td>7.4</td>\n",
       "      <td>755</td>\n",
       "      <td>5369</td>\n",
       "      <td>18</td>\n",
       "      <td>11</td>\n",
       "      <td>5</td>\n",
       "      <td>Kevin Smith</td>\n",
       "      <td>5369</td>\n",
       "      <td>Male</td>\n",
       "    </tr>\n",
       "    <tr>\n",
       "      <th>1462</th>\n",
       "      <td>48375</td>\n",
       "      <td>0</td>\n",
       "      <td>7</td>\n",
       "      <td>0</td>\n",
       "      <td>Rampage</td>\n",
       "      <td>6.0</td>\n",
       "      <td>131</td>\n",
       "      <td>5148</td>\n",
       "      <td>33</td>\n",
       "      <td>1</td>\n",
       "      <td>0</td>\n",
       "      <td>Uwe Boll</td>\n",
       "      <td>5148</td>\n",
       "      <td>Male</td>\n",
       "    </tr>\n",
       "    <tr>\n",
       "      <th>1463</th>\n",
       "      <td>48376</td>\n",
       "      <td>0</td>\n",
       "      <td>3</td>\n",
       "      <td>0</td>\n",
       "      <td>Slacker</td>\n",
       "      <td>6.4</td>\n",
       "      <td>77</td>\n",
       "      <td>5535</td>\n",
       "      <td>14</td>\n",
       "      <td>5</td>\n",
       "      <td>0</td>\n",
       "      <td>Richard Linklater</td>\n",
       "      <td>5535</td>\n",
       "      <td>Male</td>\n",
       "    </tr>\n",
       "    <tr>\n",
       "      <th>1464</th>\n",
       "      <td>48395</td>\n",
       "      <td>220000</td>\n",
       "      <td>14</td>\n",
       "      <td>2040920</td>\n",
       "      <td>El Mariachi</td>\n",
       "      <td>6.6</td>\n",
       "      <td>238</td>\n",
       "      <td>5097</td>\n",
       "      <td>16</td>\n",
       "      <td>11</td>\n",
       "      <td>0</td>\n",
       "      <td>Robert Rodriguez</td>\n",
       "      <td>5097</td>\n",
       "      <td>Male</td>\n",
       "    </tr>\n",
       "  </tbody>\n",
       "</table>\n",
       "<p>1465 rows × 14 columns</p>\n",
       "</div>"
      ],
      "text/plain": [
       "       id_x     budget  popularity     revenue  \\\n",
       "0     43597  237000000         150  2787965087   \n",
       "1     43598  300000000         139   961000000   \n",
       "2     43599  245000000         107   880674609   \n",
       "3     43600  250000000         112  1084939099   \n",
       "4     43602  258000000         115   890871626   \n",
       "...     ...        ...         ...         ...   \n",
       "1460  48363          0           3      321952   \n",
       "1461  48370      27000          19     3151130   \n",
       "1462  48375          0           7           0   \n",
       "1463  48376          0           3           0   \n",
       "1464  48395     220000          14     2040920   \n",
       "\n",
       "                                         title  vote_average  vote_count  \\\n",
       "0                                       Avatar           7.2       11800   \n",
       "1     Pirates of the Caribbean: At World's End           6.9        4500   \n",
       "2                                      Spectre           6.3        4466   \n",
       "3                        The Dark Knight Rises           7.6        9106   \n",
       "4                                 Spider-Man 3           5.9        3576   \n",
       "...                                        ...           ...         ...   \n",
       "1460                            The Last Waltz           7.9          64   \n",
       "1461                                    Clerks           7.4         755   \n",
       "1462                                   Rampage           6.0         131   \n",
       "1463                                   Slacker           6.4          77   \n",
       "1464                               El Mariachi           6.6         238   \n",
       "\n",
       "      director_id  year  month  day      director_name  id_y gender  \n",
       "0            4762    33      2    4      James Cameron  4762   Male  \n",
       "1            4763    31      8    2     Gore Verbinski  4763   Male  \n",
       "2            4764    39     10    1         Sam Mendes  4764   Male  \n",
       "3            4765    36      5    1  Christopher Nolan  4765   Male  \n",
       "4            4767    31      8    5          Sam Raimi  4767   Male  \n",
       "...           ...   ...    ...  ...                ...   ...    ...  \n",
       "1460         4809     2      8    1    Martin Scorsese  4809   Male  \n",
       "1461         5369    18     11    5        Kevin Smith  5369   Male  \n",
       "1462         5148    33      1    0           Uwe Boll  5148   Male  \n",
       "1463         5535    14      5    0  Richard Linklater  5535   Male  \n",
       "1464         5097    16     11    0   Robert Rodriguez  5097   Male  \n",
       "\n",
       "[1465 rows x 14 columns]"
      ]
     },
     "execution_count": 25,
     "metadata": {},
     "output_type": "execute_result"
    }
   ],
   "source": [
    "merged_df=pd.merge(df,df_dir,left_on='director_id', right_on='id',how='inner')\n",
    "merged_df"
   ]
  },
  {
   "cell_type": "code",
   "execution_count": 26,
   "id": "1ad6d1a0",
   "metadata": {
    "execution": {
     "iopub.execute_input": "2024-10-11T20:57:03.221621Z",
     "iopub.status.busy": "2024-10-11T20:57:03.221155Z",
     "iopub.status.idle": "2024-10-11T20:57:03.227833Z",
     "shell.execute_reply": "2024-10-11T20:57:03.226757Z"
    },
    "papermill": {
     "duration": 0.025942,
     "end_time": "2024-10-11T20:57:03.230204",
     "exception": false,
     "start_time": "2024-10-11T20:57:03.204262",
     "status": "completed"
    },
    "tags": []
   },
   "outputs": [],
   "source": [
    "merged_df=merged_df.rename(columns={'id_x':'movie_id'})"
   ]
  },
  {
   "cell_type": "code",
   "execution_count": 27,
   "id": "e06a6ffb",
   "metadata": {
    "execution": {
     "iopub.execute_input": "2024-10-11T20:57:03.265224Z",
     "iopub.status.busy": "2024-10-11T20:57:03.264269Z",
     "iopub.status.idle": "2024-10-11T20:57:03.271575Z",
     "shell.execute_reply": "2024-10-11T20:57:03.270059Z"
    },
    "papermill": {
     "duration": 0.028442,
     "end_time": "2024-10-11T20:57:03.274151",
     "exception": false,
     "start_time": "2024-10-11T20:57:03.245709",
     "status": "completed"
    },
    "tags": []
   },
   "outputs": [],
   "source": [
    "merged_df=merged_df.drop(columns='id_y')"
   ]
  },
  {
   "cell_type": "code",
   "execution_count": 28,
   "id": "a916ce1d",
   "metadata": {
    "execution": {
     "iopub.execute_input": "2024-10-11T20:57:03.306675Z",
     "iopub.status.busy": "2024-10-11T20:57:03.306262Z",
     "iopub.status.idle": "2024-10-11T20:57:03.324148Z",
     "shell.execute_reply": "2024-10-11T20:57:03.322925Z"
    },
    "papermill": {
     "duration": 0.036959,
     "end_time": "2024-10-11T20:57:03.326583",
     "exception": false,
     "start_time": "2024-10-11T20:57:03.289624",
     "status": "completed"
    },
    "tags": []
   },
   "outputs": [
    {
     "data": {
      "text/html": [
       "<div>\n",
       "<style scoped>\n",
       "    .dataframe tbody tr th:only-of-type {\n",
       "        vertical-align: middle;\n",
       "    }\n",
       "\n",
       "    .dataframe tbody tr th {\n",
       "        vertical-align: top;\n",
       "    }\n",
       "\n",
       "    .dataframe thead th {\n",
       "        text-align: right;\n",
       "    }\n",
       "</style>\n",
       "<table border=\"1\" class=\"dataframe\">\n",
       "  <thead>\n",
       "    <tr style=\"text-align: right;\">\n",
       "      <th></th>\n",
       "      <th>movie_id</th>\n",
       "      <th>budget</th>\n",
       "      <th>popularity</th>\n",
       "      <th>revenue</th>\n",
       "      <th>title</th>\n",
       "      <th>vote_average</th>\n",
       "      <th>vote_count</th>\n",
       "      <th>director_id</th>\n",
       "      <th>year</th>\n",
       "      <th>month</th>\n",
       "      <th>day</th>\n",
       "      <th>director_name</th>\n",
       "      <th>gender</th>\n",
       "    </tr>\n",
       "  </thead>\n",
       "  <tbody>\n",
       "    <tr>\n",
       "      <th>0</th>\n",
       "      <td>43597</td>\n",
       "      <td>237000000</td>\n",
       "      <td>150</td>\n",
       "      <td>2787965087</td>\n",
       "      <td>Avatar</td>\n",
       "      <td>7.2</td>\n",
       "      <td>11800</td>\n",
       "      <td>4762</td>\n",
       "      <td>33</td>\n",
       "      <td>2</td>\n",
       "      <td>4</td>\n",
       "      <td>James Cameron</td>\n",
       "      <td>Male</td>\n",
       "    </tr>\n",
       "    <tr>\n",
       "      <th>1</th>\n",
       "      <td>43598</td>\n",
       "      <td>300000000</td>\n",
       "      <td>139</td>\n",
       "      <td>961000000</td>\n",
       "      <td>Pirates of the Caribbean: At World's End</td>\n",
       "      <td>6.9</td>\n",
       "      <td>4500</td>\n",
       "      <td>4763</td>\n",
       "      <td>31</td>\n",
       "      <td>8</td>\n",
       "      <td>2</td>\n",
       "      <td>Gore Verbinski</td>\n",
       "      <td>Male</td>\n",
       "    </tr>\n",
       "    <tr>\n",
       "      <th>2</th>\n",
       "      <td>43599</td>\n",
       "      <td>245000000</td>\n",
       "      <td>107</td>\n",
       "      <td>880674609</td>\n",
       "      <td>Spectre</td>\n",
       "      <td>6.3</td>\n",
       "      <td>4466</td>\n",
       "      <td>4764</td>\n",
       "      <td>39</td>\n",
       "      <td>10</td>\n",
       "      <td>1</td>\n",
       "      <td>Sam Mendes</td>\n",
       "      <td>Male</td>\n",
       "    </tr>\n",
       "    <tr>\n",
       "      <th>3</th>\n",
       "      <td>43600</td>\n",
       "      <td>250000000</td>\n",
       "      <td>112</td>\n",
       "      <td>1084939099</td>\n",
       "      <td>The Dark Knight Rises</td>\n",
       "      <td>7.6</td>\n",
       "      <td>9106</td>\n",
       "      <td>4765</td>\n",
       "      <td>36</td>\n",
       "      <td>5</td>\n",
       "      <td>1</td>\n",
       "      <td>Christopher Nolan</td>\n",
       "      <td>Male</td>\n",
       "    </tr>\n",
       "    <tr>\n",
       "      <th>4</th>\n",
       "      <td>43602</td>\n",
       "      <td>258000000</td>\n",
       "      <td>115</td>\n",
       "      <td>890871626</td>\n",
       "      <td>Spider-Man 3</td>\n",
       "      <td>5.9</td>\n",
       "      <td>3576</td>\n",
       "      <td>4767</td>\n",
       "      <td>31</td>\n",
       "      <td>8</td>\n",
       "      <td>5</td>\n",
       "      <td>Sam Raimi</td>\n",
       "      <td>Male</td>\n",
       "    </tr>\n",
       "    <tr>\n",
       "      <th>...</th>\n",
       "      <td>...</td>\n",
       "      <td>...</td>\n",
       "      <td>...</td>\n",
       "      <td>...</td>\n",
       "      <td>...</td>\n",
       "      <td>...</td>\n",
       "      <td>...</td>\n",
       "      <td>...</td>\n",
       "      <td>...</td>\n",
       "      <td>...</td>\n",
       "      <td>...</td>\n",
       "      <td>...</td>\n",
       "      <td>...</td>\n",
       "    </tr>\n",
       "    <tr>\n",
       "      <th>1460</th>\n",
       "      <td>48363</td>\n",
       "      <td>0</td>\n",
       "      <td>3</td>\n",
       "      <td>321952</td>\n",
       "      <td>The Last Waltz</td>\n",
       "      <td>7.9</td>\n",
       "      <td>64</td>\n",
       "      <td>4809</td>\n",
       "      <td>2</td>\n",
       "      <td>8</td>\n",
       "      <td>1</td>\n",
       "      <td>Martin Scorsese</td>\n",
       "      <td>Male</td>\n",
       "    </tr>\n",
       "    <tr>\n",
       "      <th>1461</th>\n",
       "      <td>48370</td>\n",
       "      <td>27000</td>\n",
       "      <td>19</td>\n",
       "      <td>3151130</td>\n",
       "      <td>Clerks</td>\n",
       "      <td>7.4</td>\n",
       "      <td>755</td>\n",
       "      <td>5369</td>\n",
       "      <td>18</td>\n",
       "      <td>11</td>\n",
       "      <td>5</td>\n",
       "      <td>Kevin Smith</td>\n",
       "      <td>Male</td>\n",
       "    </tr>\n",
       "    <tr>\n",
       "      <th>1462</th>\n",
       "      <td>48375</td>\n",
       "      <td>0</td>\n",
       "      <td>7</td>\n",
       "      <td>0</td>\n",
       "      <td>Rampage</td>\n",
       "      <td>6.0</td>\n",
       "      <td>131</td>\n",
       "      <td>5148</td>\n",
       "      <td>33</td>\n",
       "      <td>1</td>\n",
       "      <td>0</td>\n",
       "      <td>Uwe Boll</td>\n",
       "      <td>Male</td>\n",
       "    </tr>\n",
       "    <tr>\n",
       "      <th>1463</th>\n",
       "      <td>48376</td>\n",
       "      <td>0</td>\n",
       "      <td>3</td>\n",
       "      <td>0</td>\n",
       "      <td>Slacker</td>\n",
       "      <td>6.4</td>\n",
       "      <td>77</td>\n",
       "      <td>5535</td>\n",
       "      <td>14</td>\n",
       "      <td>5</td>\n",
       "      <td>0</td>\n",
       "      <td>Richard Linklater</td>\n",
       "      <td>Male</td>\n",
       "    </tr>\n",
       "    <tr>\n",
       "      <th>1464</th>\n",
       "      <td>48395</td>\n",
       "      <td>220000</td>\n",
       "      <td>14</td>\n",
       "      <td>2040920</td>\n",
       "      <td>El Mariachi</td>\n",
       "      <td>6.6</td>\n",
       "      <td>238</td>\n",
       "      <td>5097</td>\n",
       "      <td>16</td>\n",
       "      <td>11</td>\n",
       "      <td>0</td>\n",
       "      <td>Robert Rodriguez</td>\n",
       "      <td>Male</td>\n",
       "    </tr>\n",
       "  </tbody>\n",
       "</table>\n",
       "<p>1465 rows × 13 columns</p>\n",
       "</div>"
      ],
      "text/plain": [
       "      movie_id     budget  popularity     revenue  \\\n",
       "0        43597  237000000         150  2787965087   \n",
       "1        43598  300000000         139   961000000   \n",
       "2        43599  245000000         107   880674609   \n",
       "3        43600  250000000         112  1084939099   \n",
       "4        43602  258000000         115   890871626   \n",
       "...        ...        ...         ...         ...   \n",
       "1460     48363          0           3      321952   \n",
       "1461     48370      27000          19     3151130   \n",
       "1462     48375          0           7           0   \n",
       "1463     48376          0           3           0   \n",
       "1464     48395     220000          14     2040920   \n",
       "\n",
       "                                         title  vote_average  vote_count  \\\n",
       "0                                       Avatar           7.2       11800   \n",
       "1     Pirates of the Caribbean: At World's End           6.9        4500   \n",
       "2                                      Spectre           6.3        4466   \n",
       "3                        The Dark Knight Rises           7.6        9106   \n",
       "4                                 Spider-Man 3           5.9        3576   \n",
       "...                                        ...           ...         ...   \n",
       "1460                            The Last Waltz           7.9          64   \n",
       "1461                                    Clerks           7.4         755   \n",
       "1462                                   Rampage           6.0         131   \n",
       "1463                                   Slacker           6.4          77   \n",
       "1464                               El Mariachi           6.6         238   \n",
       "\n",
       "      director_id  year  month  day      director_name gender  \n",
       "0            4762    33      2    4      James Cameron   Male  \n",
       "1            4763    31      8    2     Gore Verbinski   Male  \n",
       "2            4764    39     10    1         Sam Mendes   Male  \n",
       "3            4765    36      5    1  Christopher Nolan   Male  \n",
       "4            4767    31      8    5          Sam Raimi   Male  \n",
       "...           ...   ...    ...  ...                ...    ...  \n",
       "1460         4809     2      8    1    Martin Scorsese   Male  \n",
       "1461         5369    18     11    5        Kevin Smith   Male  \n",
       "1462         5148    33      1    0           Uwe Boll   Male  \n",
       "1463         5535    14      5    0  Richard Linklater   Male  \n",
       "1464         5097    16     11    0   Robert Rodriguez   Male  \n",
       "\n",
       "[1465 rows x 13 columns]"
      ]
     },
     "execution_count": 28,
     "metadata": {},
     "output_type": "execute_result"
    }
   ],
   "source": [
    "merged_df"
   ]
  },
  {
   "cell_type": "markdown",
   "id": "52e252cd",
   "metadata": {
    "papermill": {
     "duration": 0.01539,
     "end_time": "2024-10-11T20:57:03.357924",
     "exception": false,
     "start_time": "2024-10-11T20:57:03.342534",
     "status": "completed"
    },
    "tags": []
   },
   "source": [
    "## Top Directors by vote count "
   ]
  },
  {
   "cell_type": "code",
   "execution_count": 29,
   "id": "04af6624",
   "metadata": {
    "execution": {
     "iopub.execute_input": "2024-10-11T20:57:03.391807Z",
     "iopub.status.busy": "2024-10-11T20:57:03.390700Z",
     "iopub.status.idle": "2024-10-11T20:57:03.398657Z",
     "shell.execute_reply": "2024-10-11T20:57:03.397596Z"
    },
    "papermill": {
     "duration": 0.027339,
     "end_time": "2024-10-11T20:57:03.400962",
     "exception": false,
     "start_time": "2024-10-11T20:57:03.373623",
     "status": "completed"
    },
    "tags": []
   },
   "outputs": [],
   "source": [
    "dv=merged_df.groupby(\"director_name\")['vote_count'].mean()\n",
    "dv=dv.reset_index()"
   ]
  },
  {
   "cell_type": "code",
   "execution_count": 30,
   "id": "65da1462",
   "metadata": {
    "execution": {
     "iopub.execute_input": "2024-10-11T20:57:03.434328Z",
     "iopub.status.busy": "2024-10-11T20:57:03.433900Z",
     "iopub.status.idle": "2024-10-11T20:57:03.762473Z",
     "shell.execute_reply": "2024-10-11T20:57:03.761073Z"
    },
    "papermill": {
     "duration": 0.348273,
     "end_time": "2024-10-11T20:57:03.764992",
     "exception": false,
     "start_time": "2024-10-11T20:57:03.416719",
     "status": "completed"
    },
    "tags": []
   },
   "outputs": [
    {
     "data": {
      "image/png": "[encoded data removed]",
      "text/plain": [
       "<Figure size 1000x600 with 1 Axes>"
      ]
     },
     "metadata": {},
     "output_type": "display_data"
    }
   ],
   "source": [
    "top_10_directors = dv.sort_values(by='vote_count', ascending=False).head(10)\n",
    "# Plot the data\n",
    "plt.figure(figsize=(10, 6))\n",
    "sns.barplot(x='vote_count', y='director_name', data=top_10_directors, palette=\"viridis\")\n",
    "plt.title('Top 10 Directors by Average Vote Count')\n",
    "plt.xlabel('Average Vote Count')\n",
    "plt.ylabel('Director Name')\n",
    "plt.show()"
   ]
  },
  {
   "cell_type": "markdown",
   "id": "5273ea0b",
   "metadata": {
    "papermill": {
     "duration": 0.016445,
     "end_time": "2024-10-11T20:57:03.798122",
     "exception": false,
     "start_time": "2024-10-11T20:57:03.781677",
     "status": "completed"
    },
    "tags": []
   },
   "source": [
    "## Gender wise sucess "
   ]
  },
  {
   "cell_type": "code",
   "execution_count": 31,
   "id": "a30f53e1",
   "metadata": {
    "execution": {
     "iopub.execute_input": "2024-10-11T20:57:03.833152Z",
     "iopub.status.busy": "2024-10-11T20:57:03.832721Z",
     "iopub.status.idle": "2024-10-11T20:57:03.844929Z",
     "shell.execute_reply": "2024-10-11T20:57:03.843584Z"
    },
    "papermill": {
     "duration": 0.032409,
     "end_time": "2024-10-11T20:57:03.847218",
     "exception": false,
     "start_time": "2024-10-11T20:57:03.814809",
     "status": "completed"
    },
    "tags": []
   },
   "outputs": [
    {
     "name": "stdout",
     "output_type": "stream",
     "text": [
      "        vote_average       revenue  popularity\n",
      "gender                                        \n",
      "Female      6.262500  1.384982e+08   29.000000\n",
      "Male        6.370551  1.433601e+08   30.897418\n"
     ]
    }
   ],
   "source": [
    "gender_analysis = merged_df.groupby('gender').agg({\n",
    "    'vote_average': 'mean',\n",
    "    'revenue': 'mean',\n",
    "    'popularity': 'mean'\n",
    "})\n",
    "print(gender_analysis)"
   ]
  },
  {
   "cell_type": "markdown",
   "id": "67a16072",
   "metadata": {
    "papermill": {
     "duration": 0.016105,
     "end_time": "2024-10-11T20:57:03.880207",
     "exception": false,
     "start_time": "2024-10-11T20:57:03.864102",
     "status": "completed"
    },
    "tags": []
   },
   "source": [
    "* There are small differences in vote averages, revenue, and popularity between films directed by men and women, with male-directed films performing slightly better on all metrics.\n",
    "* The differences are not vast, suggesting that, when provided similar resources and opportunities, both male and female directors deliver comparable results in terms of ratings, revenue, and popularity."
   ]
  },
  {
   "cell_type": "code",
   "execution_count": null,
   "id": "ed024bf1",
   "metadata": {
    "papermill": {
     "duration": 0.016273,
     "end_time": "2024-10-11T20:57:03.913113",
     "exception": false,
     "start_time": "2024-10-11T20:57:03.896840",
     "status": "completed"
    },
    "tags": []
   },
   "outputs": [],
   "source": []
  }
 ],
 "metadata": {
  "kaggle": {
   "accelerator": "none",
   "dataSources": [
    {
     "datasetId": 5791478,
     "sourceId": 9513772,
     "sourceType": "datasetVersion"
    }
   ],
   "dockerImageVersionId": 30786,
   "isGpuEnabled": false,
   "isInternetEnabled": true,
   "language": "python",
   "sourceType": "notebook"
  },
  "kernelspec": {
   "display_name": "Python 3",
   "language": "python",
   "name": "python3"
  },
  "language_info": {
   "codemirror_mode": {
    "name": "ipython",
    "version": 3
   },
   "file_extension": ".py",
   "mimetype": "text/x-python",
   "name": "python",
   "nbconvert_exporter": "python",
   "pygments_lexer": "ipython3",
   "version": "3.10.14"
  },
  "papermill": {
   "default_parameters": {},
   "duration": 9.946285,
   "end_time": "2024-10-11T20:57:04.651978",
   "environment_variables": {},
   "exception": null,
   "input_path": "__notebook__.ipynb",
   "output_path": "__notebook__.ipynb",
   "parameters": {},
   "start_time": "2024-10-11T20:56:54.705693",
   "version": "2.6.0"
  }
 },
 "nbformat": 4,
 "nbformat_minor": 5
}
